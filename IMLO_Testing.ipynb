{
  "nbformat": 4,
  "nbformat_minor": 0,
  "metadata": {
    "colab": {
      "provenance": [],
      "authorship_tag": "ABX9TyPDTxYLBEdAjMFXM/NpZXM8",
      "include_colab_link": true
    },
    "kernelspec": {
      "name": "python3",
      "display_name": "Python 3"
    },
    "language_info": {
      "name": "python"
    }
  },
  "cells": [
    {
      "cell_type": "markdown",
      "metadata": {
        "id": "view-in-github",
        "colab_type": "text"
      },
      "source": [
        "<a href=\"https://colab.research.google.com/github/afirth03/IMLOAssessment/blob/main/IMLO_Testing.ipynb\" target=\"_parent\"><img src=\"https://colab.research.google.com/assets/colab-badge.svg\" alt=\"Open In Colab\"/></a>"
      ]
    },
    {
      "cell_type": "code",
      "execution_count": 6,
      "metadata": {
        "id": "ZRChixu5hO3C"
      },
      "outputs": [],
      "source": [
        "import pandas as pd\n",
        "import numpy as np\n",
        "import torch\n",
        "import torch.nn as nn\n",
        "import torch.nn.functional as F\n",
        "from torch.utils.data import Dataset, DataLoader\n",
        "from torch import optim as optim\n",
        "import torchvision\n",
        "from torchvision import datasets, transforms\n",
        "from torchvision.transforms import ToTensor\n",
        "import matplotlib.pyplot as plt\n",
        "\n",
        "device = torch.device(\"cuda\" if torch.cuda.is_available() else \"cpu\")\n",
        "\n",
        "transform = transforms.Compose([\n",
        "    transforms.Resize(224),\n",
        "    transforms.CenterCrop(224),\n",
        "    transforms.ToTensor(),\n",
        "    transforms.Normalize([0.485, 0.456, 0.406],[0.229, 0.224, 0.225])\n",
        "])\n",
        "\n",
        "transform_train = transforms.Compose([\n",
        "    transforms.RandomResizedCrop(224),\n",
        "    transforms.RandomHorizontalFlip(),\n",
        "    transforms.RandomVerticalFlip(),\n",
        "    transforms.RandomRotation(30),\n",
        "    transforms.ColorJitter(brightness=0.2, contrast=0.2, saturation = 0.2, hue = 0.1),\n",
        "    transforms.RandomAffine(degrees = 0, translate = (0.1,0.1), scale=(0.9, 1.1), shear = 10),\n",
        "    transforms.ToTensor(),\n",
        "    transforms.RandomErasing(p=0.1, scale = (0.01, 0.1), ratio=(0.9, 1.1)),\n",
        "    transforms.Normalize([0.485, 0.456, 0.406], [0.229, 0.224, 0.225])\n",
        "])\n",
        "\n",
        "batch_size = 64\n",
        "\n",
        "train_data = datasets.Flowers102(\n",
        "    root=\"data\",\n",
        "    split=\"train\",\n",
        "    download=True,\n",
        "    transform=transform_train\n",
        ")\n",
        "\n",
        "trainloader = torch.utils.data.DataLoader(train_data, batch_size=batch_size,\n",
        "                                          shuffle=True, num_workers=0)\n",
        "\n",
        "test_data = datasets.Flowers102(\n",
        "    root=\"data\",\n",
        "    split=\"test\",\n",
        "    download=True,\n",
        "    transform=transform\n",
        "\n",
        ")\n",
        "\n",
        "testloader = torch.utils.data.DataLoader(test_data, batch_size=batch_size,\n",
        "                                          shuffle=False, num_workers=0)\n",
        "\n",
        "val_data = datasets.Flowers102(\n",
        "    root=\"data\",\n",
        "    split=\"val\",\n",
        "    download=True,\n",
        "    transform=transform\n",
        ")\n",
        "\n",
        "valloader = torch.utils.data.DataLoader(val_data, batch_size=batch_size,\n",
        "                                          shuffle=False, num_workers=0)"
      ]
    },
    {
      "cell_type": "code",
      "source": [
        "class CNN(nn.Module):\n",
        "    def __init__(self):\n",
        "        super(CNN, self).__init__()\n",
        "\n",
        "        self.features = nn.Sequential( #Sequential for modularity\n",
        "\n",
        "            nn.Conv2d(3, 64, 5, stride = 2, padding = 1),\n",
        "            nn.ReLU(),\n",
        "            nn.BatchNorm2d(64),\n",
        "            nn.Conv2d(64, 128, 5, stride = 2, padding = 1),\n",
        "            nn.ReLU(),\n",
        "            nn.BatchNorm2d(128),\n",
        "            nn.MaxPool2d(5, 2),\n",
        "\n",
        "            nn.Conv2d(128, 256, 3, stride = 1, padding = 1), #Reduced stride from 2 to 1 to capture detailed info from images\n",
        "            nn.ReLU(),\n",
        "            nn.BatchNorm2d(256),\n",
        "            nn.Conv2d(256, 256, 3, stride = 1, padding = 1),\n",
        "            nn.ReLU(),\n",
        "            nn.BatchNorm2d(256),\n",
        "            nn.MaxPool2d(5, 2),\n",
        "\n",
        "            nn.Conv2d(256, 512, 3, stride = 1, padding = 1),\n",
        "            nn.ReLU(),\n",
        "            nn.BatchNorm2d(512),\n",
        "            nn.Conv2d(512, 512, 3, stride = 1, padding = 1),\n",
        "            nn.ReLU(),\n",
        "            nn.BatchNorm2d(512),\n",
        "            nn.MaxPool2d(5, 2),\n",
        "\n",
        "            nn.AdaptiveAvgPool2d((14, 14)) #Makes the input fit a 512 * 14 * 14 input\n",
        "\n",
        "        )\n",
        "\n",
        "        self.classifier = nn.Sequential(\n",
        "            nn.Linear(512 * 14 * 14, 1024),\n",
        "            nn.ReLU(),\n",
        "            nn.BatchNorm1d(1024),\n",
        "            nn.Dropout(0.5), #Dropout data to reduce overfitting\n",
        "            nn.Linear(1024, 512),\n",
        "            nn.ReLU(),\n",
        "            nn.BatchNorm1d(512),\n",
        "            nn.Dropout(0.25),\n",
        "            nn.Linear(512, 102)  #Output classes in Flowers 102\n",
        "        )\n",
        "\n",
        "    def forward(self, x):\n",
        "        x = self.features(x)\n",
        "        x = x.view(x.size(0), -1)  #Flatten the output for the fully connected layer\n",
        "        x = self.classifier(x)\n",
        "        return x\n",
        "\n",
        "cnn = CNN()\n",
        "print(cnn)"
      ],
      "metadata": {
        "id": "ui795h1ChUtS"
      },
      "execution_count": null,
      "outputs": []
    },
    {
      "cell_type": "code",
      "source": [
        "device = torch.device(\"cuda\" if torch.cuda.is_available() else \"cpu\")\n",
        "cnn.to(device)"
      ],
      "metadata": {
        "id": "vQ19TRWahW03"
      },
      "execution_count": null,
      "outputs": []
    },
    {
      "cell_type": "code",
      "source": [
        "cnn = CNN()\n",
        "cnn.load_state_dict(torch.load('cnn_flowers102.pth', map_location=device))"
      ],
      "metadata": {
        "id": "pnVO2TeyhbJW"
      },
      "execution_count": null,
      "outputs": []
    },
    {
      "cell_type": "code",
      "source": [
        "cnn.eval()\n",
        "running_loss = 0.0\n",
        "running_accuracy = 0.0\n",
        "criterion = nn.CrossEntropyLoss()\n",
        "\n",
        "for i, data in enumerate(valloader):\n",
        "    inputs, labels = data[0].to(device), data[1].to(device)\n",
        "\n",
        "    with torch.no_grad():\n",
        "        outputs = cnn(inputs)\n",
        "        correct = torch.sum(labels == torch.argmax(outputs, dim=1)).item()\n",
        "        running_accuracy += correct / batch_size\n",
        "        loss = criterion(outputs, labels)\n",
        "        running_loss += loss.item()\n",
        "\n",
        "avg_loss_across_batches = running_loss / len(valloader)\n",
        "avg_acc_across_batches = (running_accuracy / len(valloader)) * 100\n",
        "\n",
        "print(f'Val Loss: {avg_loss_across_batches:.3f}, Val Accuracy: {avg_acc_across_batches:.1f}%')"
      ],
      "metadata": {
        "id": "zozSagfohclc"
      },
      "execution_count": null,
      "outputs": []
    },
    {
      "cell_type": "code",
      "source": [
        "cnn.eval()\n",
        "\n",
        "with torch.no_grad():\n",
        "    correct = 0\n",
        "    total = 0\n",
        "\n",
        "    for images, labels in testloader:\n",
        "        images, labels = images.to(device), labels.to(device)\n",
        "\n",
        "        outputs = cnn(images)\n",
        "        _, predicted = torch.max(outputs.data, 1)\n",
        "        total += labels.size(0)\n",
        "        correct += (predicted == labels).sum().item()\n",
        "\n",
        "    accuracy = 100 * correct / total\n",
        "    print(f'Accuracy of the model on the test images: {accuracy:.2f}%')"
      ],
      "metadata": {
        "id": "Y1hcXsKbhdZF"
      },
      "execution_count": null,
      "outputs": []
    }
  ]
}