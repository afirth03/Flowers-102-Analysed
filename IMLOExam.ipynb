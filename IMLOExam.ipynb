{
  "nbformat": 4,
  "nbformat_minor": 0,
  "metadata": {
    "colab": {
      "provenance": [],
      "gpuType": "T4",
      "authorship_tag": "ABX9TyOzM38MJeBN2241XMaZ/p0I",
      "include_colab_link": true
    },
    "kernelspec": {
      "name": "python3",
      "display_name": "Python 3"
    },
    "language_info": {
      "name": "python"
    },
    "accelerator": "GPU"
  },
  "cells": [
    {
      "cell_type": "markdown",
      "metadata": {
        "id": "view-in-github",
        "colab_type": "text"
      },
      "source": [
        "<a href=\"https://colab.research.google.com/github/afirth03/IMLOAssessment/blob/main/IMLOExam.ipynb\" target=\"_parent\"><img src=\"https://colab.research.google.com/assets/colab-badge.svg\" alt=\"Open In Colab\"/></a>"
      ]
    },
    {
      "cell_type": "markdown",
      "source": [
        "# Flowers 102 Dataset Classification"
      ],
      "metadata": {
        "id": "tp_L3NW6BIjU"
      }
    },
    {
      "cell_type": "markdown",
      "source": [
        "Pre-Processing"
      ],
      "metadata": {
        "id": "yvrJRT3kDg3L"
      }
    },
    {
      "cell_type": "code",
      "source": [
        "import pandas as pd\n",
        "import numpy as np\n",
        "import torch\n",
        "import torch.nn as nn\n",
        "import torch.nn.functional as F\n",
        "from torch.utils.data import Dataset, DataLoader\n",
        "from torch import optim as optim\n",
        "from torchvision import datasets, transforms\n",
        "from torchvision.transforms import ToTensor\n",
        "import matplotlib.pyplot as plt\n",
        "\n",
        "\n",
        "train_data = datasets.Flowers102(\n",
        "    root=\"data\",\n",
        "    split=\"train\",\n",
        "    download=True,\n",
        "    transform=ToTensor()\n",
        ")\n",
        "\n",
        "trainloader = torch.utils.data.DataLoader(train_data, batch_size=32,\n",
        "                                          shuffle=True, num_workers=0)\n",
        "\n",
        "test_data = datasets.Flowers102(\n",
        "    root=\"data\",\n",
        "    split=\"test\",\n",
        "    download=True,\n",
        "    transform=ToTensor()\n",
        "\n",
        ")\n",
        "\n",
        "testloader = torch.utils.data.DataLoader(test_data, batch_size=32,\n",
        "                                          shuffle=False, num_workers=0)\n",
        "\n",
        "val_data = datasets.Flowers102(\n",
        "    root=\"data\",\n",
        "    split=\"val\",\n",
        "    download=True,\n",
        "    transform=ToTensor()\n",
        ")\n",
        "\n",
        "valloader = torch.utils.data.DataLoader(val_data, batch_size=32,\n",
        "                                          shuffle=False, num_workers=0)"
      ],
      "metadata": {
        "id": "4WPcjT1p_odR"
      },
      "execution_count": 49,
      "outputs": []
    },
    {
      "cell_type": "markdown",
      "source": [
        "#Finds mean and std of the dataset to normalise it"
      ],
      "metadata": {
        "id": "vRHG9eKgN_EL"
      }
    },
    {
      "cell_type": "code",
      "source": [
        "transform = transforms.Compose([  #Makes all the images the same size\n",
        "    transforms.Resize(256),\n",
        "    transforms.CenterCrop(224),\n",
        "    transforms.ToTensor()\n",
        "    ])\n",
        "\n",
        "dataset = datasets.Flowers102(  #Loads in whole dataset without splitting\n",
        "    root=\"data\",\n",
        "    download =True,\n",
        "    transform = transform\n",
        "\n",
        ")\n",
        "\n",
        "def mean_std(dataset):\n",
        "    dataloader = DataLoader(dataset, batch_size=32, num_workers=0)\n",
        "    mean = 0.0\n",
        "    std = 0.0\n",
        "    samples = 0.0\n",
        "\n",
        "    for data in dataloader:\n",
        "        batch_images = data[0]\n",
        "        batch_size = batch_images.size(0)\n",
        "\n",
        "        batch_mean = torch.mean(batch_images, dim=[0, 2, 3])  #Dimensions 0,2,3 are to loop through all the data and adjust the height and width to flatten rgb\n",
        "        batch_std = torch.std(batch_images, dim=[0, 2, 3])\n",
        "\n",
        "        mean += batch_mean * batch_size\n",
        "        std += batch_std * batch_size\n",
        "        samples += batch_size\n",
        "\n",
        "    mean = mean / samples\n",
        "    std = std /samples\n",
        "\n",
        "    return mean, std\n",
        "\n",
        "mean, std = mean_std(dataset)\n",
        "print(f\"Dataset Mean: {mean}, Dataset STD: {std}\")"
      ],
      "metadata": {
        "colab": {
          "base_uri": "https://localhost:8080/"
        },
        "id": "Qep2Y3mfYOfc",
        "outputId": "c9cc5ae5-fe37-4976-fb77-967da2ed6e0b"
      },
      "execution_count": 50,
      "outputs": [
        {
          "output_type": "stream",
          "name": "stdout",
          "text": [
            "Dataset Mean: tensor([0.5114, 0.4160, 0.3407]), Dataset STD: tensor([0.2917, 0.2443, 0.2747])\n"
          ]
        }
      ]
    },
    {
      "cell_type": "markdown",
      "source": [
        "#Transforms the datasets to fit the new mean and std"
      ],
      "metadata": {
        "id": "IUpZf2Q_N4Zn"
      }
    },
    {
      "cell_type": "code",
      "source": [
        "transform = transforms.Compose([\n",
        "    transforms.Resize(256),\n",
        "    transforms.CenterCrop(224),\n",
        "    transforms.ToTensor(),\n",
        "    transforms.Normalize(mean, std)\n",
        "])\n",
        "\n",
        "new_train_data = datasets.Flowers102(\n",
        "    root=\"data\",\n",
        "    split=\"train\",\n",
        "    download =True,\n",
        "    transform=transform\n",
        ")\n",
        "\n",
        "\n",
        "new_test_data = datasets.Flowers102(\n",
        "    root=\"data\",\n",
        "    split=\"test\",\n",
        "    download =True,\n",
        "    transform=transform\n",
        ")\n",
        "\n",
        "new_val_data = datasets.Flowers102(\n",
        "    root=\"data\",\n",
        "    split=\"val\",\n",
        "    download =True,\n",
        "    transform=transform\n",
        ")\n",
        "\n",
        "new_train_loader = torch.utils.data.DataLoader(new_train_data, batch_size=32, shuffle=True) #Loads in the new transformed data for modelling\n",
        "new_test_loader = torch.utils.data.DataLoader(new_test_data, batch_size=32, shuffle=False)\n",
        "new_val_loader = torch.utils.data.DataLoader(new_val_data, batch_size=32, shuffle=False)"
      ],
      "metadata": {
        "id": "qQ-jDm8FaEDA"
      },
      "execution_count": 51,
      "outputs": []
    },
    {
      "cell_type": "markdown",
      "source": [
        "# Display Processed images randomly"
      ],
      "metadata": {
        "id": "n5D8f9SRRVMh"
      }
    },
    {
      "cell_type": "code",
      "source": [
        "figure = plt.figure(figsize=(15, 10))\n",
        "cols, rows = 3, 2\n",
        "\n",
        "for i in range(1, cols * rows + 1):\n",
        "    sample_idx = torch.randint(len(new_train_data), size=(1,)).item()\n",
        "    img, label = new_train_data[sample_idx]\n",
        "    img = img.permute(1, 2, 0)\n",
        "    ax = figure.add_subplot(rows, cols, i)\n",
        "    ax.set_title(f'Label: {label}')\n",
        "    ax.axis(\"on\")\n",
        "    ax.imshow(img.squeeze(), cmap=\"Accent\")\n",
        "plt.show()"
      ],
      "metadata": {
        "id": "nR4NCzrPJKbS"
      },
      "execution_count": null,
      "outputs": []
    },
    {
      "cell_type": "markdown",
      "source": [
        "# Creating Neural Network"
      ],
      "metadata": {
        "id": "BXS3q5Y81lOF"
      }
    },
    {
      "cell_type": "code",
      "source": [
        "class CNN(nn.Module):\n",
        "\n",
        "  def __init__(self):\n",
        "     super().__init__()\n",
        "\n",
        "     self.conv1 = nn.Conv2d(3, 32 ,3 , 1)\n",
        "     self.relu1 = nn.ReLU()\n",
        "     self.pool1 = nn.MaxPool2d(3)\n",
        "\n",
        "     self.conv2 = nn.Conv2d(32, 64 ,3 , 1) #Increase the input layers to 32 as they were outputs of layer 1\n",
        "     self.relu2 = nn.ReLU()\n",
        "     self.pool2 = nn.MaxPool2d(3)\n",
        "\n",
        "     self.conv3 = nn.Conv2d(64, 128 ,3 , 1)\n",
        "     self.relu3 = nn.ReLU()\n",
        "     self.pool3 = nn.MaxPool2d(3)\n",
        "\n",
        "     self.fc1 = nn.Linear(128 * 7 * 7, 1024)\n",
        "     self.fc2 = nn.Linear(1024, 512)\n",
        "     self.fc3 = nn.Linear(512, 102) #102 as there is 102 output classes\n",
        "\n",
        "  def forward(self, x):\n",
        "     x = F.relu(self.conv1(x)) #Pass through the first layer down to the 3rd\n",
        "     x = self.pool1(x)\n",
        "\n",
        "     x = F.relu(self.conv2(x))\n",
        "     x = self.pool2(x)\n",
        "\n",
        "     x = F.relu(self.conv3(x))\n",
        "     x = self.pool3(x)\n",
        "\n",
        "     x = torch.flatten(x, 1)\n",
        "\n",
        "     x = F.relu(self.fc1(x)) #Once passed through apply activation of the fully connected\n",
        "     x = F.relu(self.fc2(x))\n",
        "     x = self.fc3(x)\n",
        "\n",
        "     return x\n",
        "\n",
        "cnn = CNN()"
      ],
      "metadata": {
        "id": "AxpahQ0xt5lQ"
      },
      "execution_count": 53,
      "outputs": []
    },
    {
      "cell_type": "code",
      "source": [
        "optimizer = optim.ASGD(cnn.parameters(), lr=0.001)"
      ],
      "metadata": {
        "id": "Bk1o63bw42qH"
      },
      "execution_count": 54,
      "outputs": []
    },
    {
      "cell_type": "code",
      "source": [
        "criterion = nn.CrossEntropyLoss()"
      ],
      "metadata": {
        "id": "2v6t8nmB9GqP"
      },
      "execution_count": 55,
      "outputs": []
    },
    {
      "cell_type": "code",
      "source": [],
      "metadata": {
        "id": "dgr21XJXOIl1"
      },
      "execution_count": null,
      "outputs": []
    }
  ]
}